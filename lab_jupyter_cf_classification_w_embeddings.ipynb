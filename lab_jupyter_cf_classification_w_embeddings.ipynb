{
 "cells": [
  {
   "cell_type": "markdown",
   "metadata": {},
   "source": [
    "<p style=\"text-align:center\">\n",
    "    <a href=\"https://skills.network/?utm_medium=Exinfluencer&utm_source=Exinfluencer&utm_content=000026UJ&utm_term=10006555&utm_id=NA-SkillsNetwork-Channel-SkillsNetworkCoursesIBMML321ENSkillsNetwork32585014-2022-01-01\" target=\"_blank\">\n",
    "    <img src=\"https://cf-courses-data.s3.us.cloud-object-storage.appdomain.cloud/assets/logos/SN_web_lightmode.png\" width=\"200\" alt=\"Skills Network Logo\"  />\n",
    "    </a>\n",
    "</p>\n"
   ]
  },
  {
   "cell_type": "markdown",
   "metadata": {},
   "source": [
    "# **Classification-based Rating Mode Prediction using Embedding Features**\n"
   ]
  },
  {
   "cell_type": "markdown",
   "metadata": {},
   "source": [
    "Estimated time needed: **60** minutes\n"
   ]
  },
  {
   "cell_type": "markdown",
   "metadata": {},
   "source": [
    "In this lab, you have built regression models to predict numerical course ratings using the embedding feature vectors extracted from neural networks. We can also consider the prediction problem as a classification problem as rating only has two categorical values (`Aduit` vs. `Completion`).\n"
   ]
  },
  {
   "cell_type": "markdown",
   "metadata": {},
   "source": [
    "![](https://cf-courses-data.s3.us.cloud-object-storage.appdomain.cloud/IBM-ML321EN-SkillsNetwork/labs/module\\_4/images/rating_classification.png)\n"
   ]
  },
  {
   "cell_type": "markdown",
   "metadata": {},
   "source": [
    "The workflow is very similar to our previous lab. We first extract two embedding matrices out of the neural network, and aggregate them to be a single interaction feature vector as input data `X`.\n",
    "\n",
    "This time, with the interaction label `Y` as categorical rating mode, we can build classification models to approximate the mapping from `X` to `Y`, as shown in the above flowchart.\n"
   ]
  },
  {
   "cell_type": "markdown",
   "metadata": {},
   "source": [
    "## Objectives\n"
   ]
  },
  {
   "cell_type": "markdown",
   "metadata": {},
   "source": [
    "After completing this lab you will be able to:\n"
   ]
  },
  {
   "cell_type": "markdown",
   "metadata": {},
   "source": [
    "*   Build classification models to predict rating modes using the combined embedding vectors\n"
   ]
  },
  {
   "cell_type": "markdown",
   "metadata": {},
   "source": [
    "***\n"
   ]
  },
  {
   "cell_type": "markdown",
   "metadata": {},
   "source": [
    "## Prepare and setup lab environment\n"
   ]
  },
  {
   "cell_type": "markdown",
   "metadata": {},
   "source": [
    "First install and import required libraries:\n"
   ]
  },
  {
   "cell_type": "code",
   "execution_count": 28,
   "metadata": {},
   "outputs": [
    {
     "name": "stdout",
     "output_type": "stream",
     "text": [
      "Requirement already satisfied: scikit-learn==1.0.2 in /home/jupyterlab/conda/envs/python/lib/python3.7/site-packages (1.0.2)\n",
      "Requirement already satisfied: joblib>=0.11 in /home/jupyterlab/conda/envs/python/lib/python3.7/site-packages (from scikit-learn==1.0.2) (1.2.0)\n",
      "Requirement already satisfied: scipy>=1.1.0 in /home/jupyterlab/conda/envs/python/lib/python3.7/site-packages (from scikit-learn==1.0.2) (1.7.3)\n",
      "Requirement already satisfied: numpy>=1.14.6 in /home/jupyterlab/conda/envs/python/lib/python3.7/site-packages (from scikit-learn==1.0.2) (1.21.6)\n",
      "Requirement already satisfied: threadpoolctl>=2.0.0 in /home/jupyterlab/conda/envs/python/lib/python3.7/site-packages (from scikit-learn==1.0.2) (3.1.0)\n"
     ]
    }
   ],
   "source": [
    "!pip install scikit-learn==1.0.2"
   ]
  },
  {
   "cell_type": "code",
   "execution_count": 29,
   "metadata": {},
   "outputs": [],
   "source": [
    "# also set a random state\n",
    "rs = 123"
   ]
  },
  {
   "cell_type": "code",
   "execution_count": 30,
   "metadata": {},
   "outputs": [],
   "source": [
    "import pandas as pd\n",
    "from sklearn.model_selection import train_test_split\n",
    "from sklearn.preprocessing import LabelEncoder\n",
    "from sklearn.metrics import accuracy_score, precision_recall_fscore_support\n",
    "from sklearn.linear_model import LogisticRegression\n",
    "from sklearn.ensemble import RandomForestClassifier"
   ]
  },
  {
   "cell_type": "markdown",
   "metadata": {},
   "source": [
    "### Load datasets\n"
   ]
  },
  {
   "cell_type": "code",
   "execution_count": 31,
   "metadata": {},
   "outputs": [],
   "source": [
    "rating_url = \"https://cf-courses-data.s3.us.cloud-object-storage.appdomain.cloud/IBM-ML321EN-SkillsNetwork/labs/datasets/ratings.csv\"\n",
    "user_emb_url = \"https://cf-courses-data.s3.us.cloud-object-storage.appdomain.cloud/IBM-ML321EN-SkillsNetwork/labs/datasets/user_embeddings.csv\"\n",
    "item_emb_url = \"https://cf-courses-data.s3.us.cloud-object-storage.appdomain.cloud/IBM-ML321EN-SkillsNetwork/labs/datasets/course_embeddings.csv\""
   ]
  },
  {
   "cell_type": "markdown",
   "metadata": {},
   "source": [
    "The first dataset is the rating dataset contains user-item interaction matrix\n"
   ]
  },
  {
   "cell_type": "code",
   "execution_count": 32,
   "metadata": {},
   "outputs": [],
   "source": [
    "rating_df = pd.read_csv(rating_url)"
   ]
  },
  {
   "cell_type": "code",
   "execution_count": 33,
   "metadata": {},
   "outputs": [
    {
     "data": {
      "text/html": [
       "<div>\n",
       "<style scoped>\n",
       "    .dataframe tbody tr th:only-of-type {\n",
       "        vertical-align: middle;\n",
       "    }\n",
       "\n",
       "    .dataframe tbody tr th {\n",
       "        vertical-align: top;\n",
       "    }\n",
       "\n",
       "    .dataframe thead th {\n",
       "        text-align: right;\n",
       "    }\n",
       "</style>\n",
       "<table border=\"1\" class=\"dataframe\">\n",
       "  <thead>\n",
       "    <tr style=\"text-align: right;\">\n",
       "      <th></th>\n",
       "      <th>user</th>\n",
       "      <th>item</th>\n",
       "      <th>rating</th>\n",
       "    </tr>\n",
       "  </thead>\n",
       "  <tbody>\n",
       "    <tr>\n",
       "      <th>0</th>\n",
       "      <td>1889878</td>\n",
       "      <td>CC0101EN</td>\n",
       "      <td>3.0</td>\n",
       "    </tr>\n",
       "    <tr>\n",
       "      <th>1</th>\n",
       "      <td>1342067</td>\n",
       "      <td>CL0101EN</td>\n",
       "      <td>3.0</td>\n",
       "    </tr>\n",
       "    <tr>\n",
       "      <th>2</th>\n",
       "      <td>1990814</td>\n",
       "      <td>ML0120ENv3</td>\n",
       "      <td>3.0</td>\n",
       "    </tr>\n",
       "    <tr>\n",
       "      <th>3</th>\n",
       "      <td>380098</td>\n",
       "      <td>BD0211EN</td>\n",
       "      <td>3.0</td>\n",
       "    </tr>\n",
       "    <tr>\n",
       "      <th>4</th>\n",
       "      <td>779563</td>\n",
       "      <td>DS0101EN</td>\n",
       "      <td>3.0</td>\n",
       "    </tr>\n",
       "  </tbody>\n",
       "</table>\n",
       "</div>"
      ],
      "text/plain": [
       "      user        item  rating\n",
       "0  1889878    CC0101EN     3.0\n",
       "1  1342067    CL0101EN     3.0\n",
       "2  1990814  ML0120ENv3     3.0\n",
       "3   380098    BD0211EN     3.0\n",
       "4   779563    DS0101EN     3.0"
      ]
     },
     "execution_count": 33,
     "metadata": {},
     "output_type": "execute_result"
    }
   ],
   "source": [
    "rating_df.head()"
   ]
  },
  {
   "cell_type": "markdown",
   "metadata": {},
   "source": [
    "As you can see from the above data, the user and item are just ids, let's substitute them with their embedding vectors\n"
   ]
  },
  {
   "cell_type": "code",
   "execution_count": 34,
   "metadata": {},
   "outputs": [],
   "source": [
    "user_emb = pd.read_csv(user_emb_url)\n",
    "item_emb = pd.read_csv(item_emb_url)"
   ]
  },
  {
   "cell_type": "code",
   "execution_count": 35,
   "metadata": {},
   "outputs": [
    {
     "data": {
      "text/html": [
       "<div>\n",
       "<style scoped>\n",
       "    .dataframe tbody tr th:only-of-type {\n",
       "        vertical-align: middle;\n",
       "    }\n",
       "\n",
       "    .dataframe tbody tr th {\n",
       "        vertical-align: top;\n",
       "    }\n",
       "\n",
       "    .dataframe thead th {\n",
       "        text-align: right;\n",
       "    }\n",
       "</style>\n",
       "<table border=\"1\" class=\"dataframe\">\n",
       "  <thead>\n",
       "    <tr style=\"text-align: right;\">\n",
       "      <th></th>\n",
       "      <th>user</th>\n",
       "      <th>UFeature0</th>\n",
       "      <th>UFeature1</th>\n",
       "      <th>UFeature2</th>\n",
       "      <th>UFeature3</th>\n",
       "      <th>UFeature4</th>\n",
       "      <th>UFeature5</th>\n",
       "      <th>UFeature6</th>\n",
       "      <th>UFeature7</th>\n",
       "      <th>UFeature8</th>\n",
       "      <th>UFeature9</th>\n",
       "      <th>UFeature10</th>\n",
       "      <th>UFeature11</th>\n",
       "      <th>UFeature12</th>\n",
       "      <th>UFeature13</th>\n",
       "      <th>UFeature14</th>\n",
       "      <th>UFeature15</th>\n",
       "    </tr>\n",
       "  </thead>\n",
       "  <tbody>\n",
       "    <tr>\n",
       "      <th>0</th>\n",
       "      <td>1889878</td>\n",
       "      <td>0.080721</td>\n",
       "      <td>-0.129561</td>\n",
       "      <td>0.087998</td>\n",
       "      <td>0.030231</td>\n",
       "      <td>0.082691</td>\n",
       "      <td>-0.004176</td>\n",
       "      <td>-0.003480</td>\n",
       "      <td>0.091464</td>\n",
       "      <td>-0.040247</td>\n",
       "      <td>0.018958</td>\n",
       "      <td>-0.153328</td>\n",
       "      <td>-0.090143</td>\n",
       "      <td>0.082830</td>\n",
       "      <td>-0.058721</td>\n",
       "      <td>0.057929</td>\n",
       "      <td>-0.001472</td>\n",
       "    </tr>\n",
       "    <tr>\n",
       "      <th>1</th>\n",
       "      <td>1342067</td>\n",
       "      <td>0.068047</td>\n",
       "      <td>-0.112781</td>\n",
       "      <td>0.045208</td>\n",
       "      <td>-0.007570</td>\n",
       "      <td>-0.038382</td>\n",
       "      <td>0.068037</td>\n",
       "      <td>0.114949</td>\n",
       "      <td>0.104128</td>\n",
       "      <td>-0.034401</td>\n",
       "      <td>0.004011</td>\n",
       "      <td>0.064832</td>\n",
       "      <td>0.165857</td>\n",
       "      <td>-0.004384</td>\n",
       "      <td>0.053257</td>\n",
       "      <td>0.014308</td>\n",
       "      <td>0.056684</td>\n",
       "    </tr>\n",
       "    <tr>\n",
       "      <th>2</th>\n",
       "      <td>1990814</td>\n",
       "      <td>0.124623</td>\n",
       "      <td>0.012910</td>\n",
       "      <td>-0.072627</td>\n",
       "      <td>0.049935</td>\n",
       "      <td>0.020158</td>\n",
       "      <td>0.133306</td>\n",
       "      <td>-0.035366</td>\n",
       "      <td>-0.156026</td>\n",
       "      <td>0.039269</td>\n",
       "      <td>0.042195</td>\n",
       "      <td>0.014695</td>\n",
       "      <td>-0.115989</td>\n",
       "      <td>0.031158</td>\n",
       "      <td>0.102021</td>\n",
       "      <td>-0.020601</td>\n",
       "      <td>0.116488</td>\n",
       "    </tr>\n",
       "    <tr>\n",
       "      <th>3</th>\n",
       "      <td>380098</td>\n",
       "      <td>-0.034870</td>\n",
       "      <td>0.000715</td>\n",
       "      <td>0.077406</td>\n",
       "      <td>0.070311</td>\n",
       "      <td>-0.043007</td>\n",
       "      <td>-0.035446</td>\n",
       "      <td>0.032846</td>\n",
       "      <td>-0.060944</td>\n",
       "      <td>0.112384</td>\n",
       "      <td>0.002114</td>\n",
       "      <td>0.090660</td>\n",
       "      <td>-0.068545</td>\n",
       "      <td>0.008967</td>\n",
       "      <td>0.063962</td>\n",
       "      <td>0.052347</td>\n",
       "      <td>0.018072</td>\n",
       "    </tr>\n",
       "    <tr>\n",
       "      <th>4</th>\n",
       "      <td>779563</td>\n",
       "      <td>0.106414</td>\n",
       "      <td>-0.001887</td>\n",
       "      <td>-0.017211</td>\n",
       "      <td>-0.042277</td>\n",
       "      <td>-0.074953</td>\n",
       "      <td>-0.056732</td>\n",
       "      <td>0.074610</td>\n",
       "      <td>-0.019367</td>\n",
       "      <td>-0.031341</td>\n",
       "      <td>0.064896</td>\n",
       "      <td>-0.048158</td>\n",
       "      <td>-0.047309</td>\n",
       "      <td>-0.007544</td>\n",
       "      <td>0.010474</td>\n",
       "      <td>-0.032287</td>\n",
       "      <td>-0.083983</td>\n",
       "    </tr>\n",
       "  </tbody>\n",
       "</table>\n",
       "</div>"
      ],
      "text/plain": [
       "      user  UFeature0  UFeature1  UFeature2  UFeature3  UFeature4  UFeature5  \\\n",
       "0  1889878   0.080721  -0.129561   0.087998   0.030231   0.082691  -0.004176   \n",
       "1  1342067   0.068047  -0.112781   0.045208  -0.007570  -0.038382   0.068037   \n",
       "2  1990814   0.124623   0.012910  -0.072627   0.049935   0.020158   0.133306   \n",
       "3   380098  -0.034870   0.000715   0.077406   0.070311  -0.043007  -0.035446   \n",
       "4   779563   0.106414  -0.001887  -0.017211  -0.042277  -0.074953  -0.056732   \n",
       "\n",
       "   UFeature6  UFeature7  UFeature8  UFeature9  UFeature10  UFeature11  \\\n",
       "0  -0.003480   0.091464  -0.040247   0.018958   -0.153328   -0.090143   \n",
       "1   0.114949   0.104128  -0.034401   0.004011    0.064832    0.165857   \n",
       "2  -0.035366  -0.156026   0.039269   0.042195    0.014695   -0.115989   \n",
       "3   0.032846  -0.060944   0.112384   0.002114    0.090660   -0.068545   \n",
       "4   0.074610  -0.019367  -0.031341   0.064896   -0.048158   -0.047309   \n",
       "\n",
       "   UFeature12  UFeature13  UFeature14  UFeature15  \n",
       "0    0.082830   -0.058721    0.057929   -0.001472  \n",
       "1   -0.004384    0.053257    0.014308    0.056684  \n",
       "2    0.031158    0.102021   -0.020601    0.116488  \n",
       "3    0.008967    0.063962    0.052347    0.018072  \n",
       "4   -0.007544    0.010474   -0.032287   -0.083983  "
      ]
     },
     "execution_count": 35,
     "metadata": {},
     "output_type": "execute_result"
    }
   ],
   "source": [
    "user_emb.head()"
   ]
  },
  {
   "cell_type": "code",
   "execution_count": 36,
   "metadata": {},
   "outputs": [
    {
     "data": {
      "text/html": [
       "<div>\n",
       "<style scoped>\n",
       "    .dataframe tbody tr th:only-of-type {\n",
       "        vertical-align: middle;\n",
       "    }\n",
       "\n",
       "    .dataframe tbody tr th {\n",
       "        vertical-align: top;\n",
       "    }\n",
       "\n",
       "    .dataframe thead th {\n",
       "        text-align: right;\n",
       "    }\n",
       "</style>\n",
       "<table border=\"1\" class=\"dataframe\">\n",
       "  <thead>\n",
       "    <tr style=\"text-align: right;\">\n",
       "      <th></th>\n",
       "      <th>item</th>\n",
       "      <th>CFeature0</th>\n",
       "      <th>CFeature1</th>\n",
       "      <th>CFeature2</th>\n",
       "      <th>CFeature3</th>\n",
       "      <th>CFeature4</th>\n",
       "      <th>CFeature5</th>\n",
       "      <th>CFeature6</th>\n",
       "      <th>CFeature7</th>\n",
       "      <th>CFeature8</th>\n",
       "      <th>CFeature9</th>\n",
       "      <th>CFeature10</th>\n",
       "      <th>CFeature11</th>\n",
       "      <th>CFeature12</th>\n",
       "      <th>CFeature13</th>\n",
       "      <th>CFeature14</th>\n",
       "      <th>CFeature15</th>\n",
       "    </tr>\n",
       "  </thead>\n",
       "  <tbody>\n",
       "    <tr>\n",
       "      <th>0</th>\n",
       "      <td>CC0101EN</td>\n",
       "      <td>0.009657</td>\n",
       "      <td>-0.005238</td>\n",
       "      <td>-0.004098</td>\n",
       "      <td>0.016303</td>\n",
       "      <td>-0.005274</td>\n",
       "      <td>-0.000361</td>\n",
       "      <td>-0.015081</td>\n",
       "      <td>-0.012229</td>\n",
       "      <td>0.015686</td>\n",
       "      <td>0.008401</td>\n",
       "      <td>-0.035495</td>\n",
       "      <td>0.009381</td>\n",
       "      <td>-0.032560</td>\n",
       "      <td>-0.007292</td>\n",
       "      <td>0.000966</td>\n",
       "      <td>-0.006218</td>\n",
       "    </tr>\n",
       "    <tr>\n",
       "      <th>1</th>\n",
       "      <td>CL0101EN</td>\n",
       "      <td>-0.008611</td>\n",
       "      <td>0.028041</td>\n",
       "      <td>0.021899</td>\n",
       "      <td>-0.001465</td>\n",
       "      <td>0.006900</td>\n",
       "      <td>-0.017981</td>\n",
       "      <td>0.010899</td>\n",
       "      <td>-0.037610</td>\n",
       "      <td>-0.019397</td>\n",
       "      <td>-0.025682</td>\n",
       "      <td>-0.000620</td>\n",
       "      <td>0.038803</td>\n",
       "      <td>0.000196</td>\n",
       "      <td>-0.045343</td>\n",
       "      <td>0.012863</td>\n",
       "      <td>0.019429</td>\n",
       "    </tr>\n",
       "    <tr>\n",
       "      <th>2</th>\n",
       "      <td>ML0120ENv3</td>\n",
       "      <td>0.027439</td>\n",
       "      <td>-0.027649</td>\n",
       "      <td>-0.007484</td>\n",
       "      <td>-0.059451</td>\n",
       "      <td>0.003972</td>\n",
       "      <td>0.020496</td>\n",
       "      <td>-0.012695</td>\n",
       "      <td>0.036138</td>\n",
       "      <td>0.019965</td>\n",
       "      <td>0.018686</td>\n",
       "      <td>-0.010450</td>\n",
       "      <td>-0.050011</td>\n",
       "      <td>0.013845</td>\n",
       "      <td>-0.044454</td>\n",
       "      <td>-0.001480</td>\n",
       "      <td>-0.007559</td>\n",
       "    </tr>\n",
       "    <tr>\n",
       "      <th>3</th>\n",
       "      <td>BD0211EN</td>\n",
       "      <td>0.020163</td>\n",
       "      <td>-0.011972</td>\n",
       "      <td>-0.003714</td>\n",
       "      <td>-0.015548</td>\n",
       "      <td>-0.007540</td>\n",
       "      <td>0.014847</td>\n",
       "      <td>-0.005700</td>\n",
       "      <td>-0.006068</td>\n",
       "      <td>-0.005792</td>\n",
       "      <td>-0.023036</td>\n",
       "      <td>0.015999</td>\n",
       "      <td>-0.023480</td>\n",
       "      <td>0.015469</td>\n",
       "      <td>0.022221</td>\n",
       "      <td>-0.023115</td>\n",
       "      <td>-0.001785</td>\n",
       "    </tr>\n",
       "    <tr>\n",
       "      <th>4</th>\n",
       "      <td>DS0101EN</td>\n",
       "      <td>0.006399</td>\n",
       "      <td>0.000492</td>\n",
       "      <td>0.005640</td>\n",
       "      <td>0.009639</td>\n",
       "      <td>-0.005487</td>\n",
       "      <td>-0.000590</td>\n",
       "      <td>-0.010015</td>\n",
       "      <td>-0.001514</td>\n",
       "      <td>-0.017598</td>\n",
       "      <td>0.003590</td>\n",
       "      <td>0.016799</td>\n",
       "      <td>0.002732</td>\n",
       "      <td>0.005162</td>\n",
       "      <td>0.015031</td>\n",
       "      <td>-0.000877</td>\n",
       "      <td>-0.021283</td>\n",
       "    </tr>\n",
       "  </tbody>\n",
       "</table>\n",
       "</div>"
      ],
      "text/plain": [
       "         item  CFeature0  CFeature1  CFeature2  CFeature3  CFeature4  \\\n",
       "0    CC0101EN   0.009657  -0.005238  -0.004098   0.016303  -0.005274   \n",
       "1    CL0101EN  -0.008611   0.028041   0.021899  -0.001465   0.006900   \n",
       "2  ML0120ENv3   0.027439  -0.027649  -0.007484  -0.059451   0.003972   \n",
       "3    BD0211EN   0.020163  -0.011972  -0.003714  -0.015548  -0.007540   \n",
       "4    DS0101EN   0.006399   0.000492   0.005640   0.009639  -0.005487   \n",
       "\n",
       "   CFeature5  CFeature6  CFeature7  CFeature8  CFeature9  CFeature10  \\\n",
       "0  -0.000361  -0.015081  -0.012229   0.015686   0.008401   -0.035495   \n",
       "1  -0.017981   0.010899  -0.037610  -0.019397  -0.025682   -0.000620   \n",
       "2   0.020496  -0.012695   0.036138   0.019965   0.018686   -0.010450   \n",
       "3   0.014847  -0.005700  -0.006068  -0.005792  -0.023036    0.015999   \n",
       "4  -0.000590  -0.010015  -0.001514  -0.017598   0.003590    0.016799   \n",
       "\n",
       "   CFeature11  CFeature12  CFeature13  CFeature14  CFeature15  \n",
       "0    0.009381   -0.032560   -0.007292    0.000966   -0.006218  \n",
       "1    0.038803    0.000196   -0.045343    0.012863    0.019429  \n",
       "2   -0.050011    0.013845   -0.044454   -0.001480   -0.007559  \n",
       "3   -0.023480    0.015469    0.022221   -0.023115   -0.001785  \n",
       "4    0.002732    0.005162    0.015031   -0.000877   -0.021283  "
      ]
     },
     "execution_count": 36,
     "metadata": {},
     "output_type": "execute_result"
    }
   ],
   "source": [
    "item_emb.head()"
   ]
  },
  {
   "cell_type": "code",
   "execution_count": 37,
   "metadata": {},
   "outputs": [],
   "source": [
    "# Merge user embedding features\n",
    "merged_df = pd.merge(rating_df, user_emb, how='left', left_on='user', right_on='user').fillna(0)\n",
    "# Merge course embedding features\n",
    "merged_df = pd.merge(merged_df, item_emb, how='left', left_on='item', right_on='item').fillna(0)"
   ]
  },
  {
   "cell_type": "code",
   "execution_count": 38,
   "metadata": {},
   "outputs": [
    {
     "data": {
      "text/html": [
       "<div>\n",
       "<style scoped>\n",
       "    .dataframe tbody tr th:only-of-type {\n",
       "        vertical-align: middle;\n",
       "    }\n",
       "\n",
       "    .dataframe tbody tr th {\n",
       "        vertical-align: top;\n",
       "    }\n",
       "\n",
       "    .dataframe thead th {\n",
       "        text-align: right;\n",
       "    }\n",
       "</style>\n",
       "<table border=\"1\" class=\"dataframe\">\n",
       "  <thead>\n",
       "    <tr style=\"text-align: right;\">\n",
       "      <th></th>\n",
       "      <th>user</th>\n",
       "      <th>item</th>\n",
       "      <th>rating</th>\n",
       "      <th>UFeature0</th>\n",
       "      <th>UFeature1</th>\n",
       "      <th>UFeature2</th>\n",
       "      <th>UFeature3</th>\n",
       "      <th>UFeature4</th>\n",
       "      <th>UFeature5</th>\n",
       "      <th>UFeature6</th>\n",
       "      <th>...</th>\n",
       "      <th>CFeature6</th>\n",
       "      <th>CFeature7</th>\n",
       "      <th>CFeature8</th>\n",
       "      <th>CFeature9</th>\n",
       "      <th>CFeature10</th>\n",
       "      <th>CFeature11</th>\n",
       "      <th>CFeature12</th>\n",
       "      <th>CFeature13</th>\n",
       "      <th>CFeature14</th>\n",
       "      <th>CFeature15</th>\n",
       "    </tr>\n",
       "  </thead>\n",
       "  <tbody>\n",
       "    <tr>\n",
       "      <th>0</th>\n",
       "      <td>1889878</td>\n",
       "      <td>CC0101EN</td>\n",
       "      <td>3.0</td>\n",
       "      <td>0.080721</td>\n",
       "      <td>-0.129561</td>\n",
       "      <td>0.087998</td>\n",
       "      <td>0.030231</td>\n",
       "      <td>0.082691</td>\n",
       "      <td>-0.004176</td>\n",
       "      <td>-0.003480</td>\n",
       "      <td>...</td>\n",
       "      <td>-0.015081</td>\n",
       "      <td>-0.012229</td>\n",
       "      <td>0.015686</td>\n",
       "      <td>0.008401</td>\n",
       "      <td>-0.035495</td>\n",
       "      <td>0.009381</td>\n",
       "      <td>-0.032560</td>\n",
       "      <td>-0.007292</td>\n",
       "      <td>0.000966</td>\n",
       "      <td>-0.006218</td>\n",
       "    </tr>\n",
       "    <tr>\n",
       "      <th>1</th>\n",
       "      <td>1342067</td>\n",
       "      <td>CL0101EN</td>\n",
       "      <td>3.0</td>\n",
       "      <td>0.068047</td>\n",
       "      <td>-0.112781</td>\n",
       "      <td>0.045208</td>\n",
       "      <td>-0.007570</td>\n",
       "      <td>-0.038382</td>\n",
       "      <td>0.068037</td>\n",
       "      <td>0.114949</td>\n",
       "      <td>...</td>\n",
       "      <td>0.010899</td>\n",
       "      <td>-0.037610</td>\n",
       "      <td>-0.019397</td>\n",
       "      <td>-0.025682</td>\n",
       "      <td>-0.000620</td>\n",
       "      <td>0.038803</td>\n",
       "      <td>0.000196</td>\n",
       "      <td>-0.045343</td>\n",
       "      <td>0.012863</td>\n",
       "      <td>0.019429</td>\n",
       "    </tr>\n",
       "    <tr>\n",
       "      <th>2</th>\n",
       "      <td>1990814</td>\n",
       "      <td>ML0120ENv3</td>\n",
       "      <td>3.0</td>\n",
       "      <td>0.124623</td>\n",
       "      <td>0.012910</td>\n",
       "      <td>-0.072627</td>\n",
       "      <td>0.049935</td>\n",
       "      <td>0.020158</td>\n",
       "      <td>0.133306</td>\n",
       "      <td>-0.035366</td>\n",
       "      <td>...</td>\n",
       "      <td>-0.012695</td>\n",
       "      <td>0.036138</td>\n",
       "      <td>0.019965</td>\n",
       "      <td>0.018686</td>\n",
       "      <td>-0.010450</td>\n",
       "      <td>-0.050011</td>\n",
       "      <td>0.013845</td>\n",
       "      <td>-0.044454</td>\n",
       "      <td>-0.001480</td>\n",
       "      <td>-0.007559</td>\n",
       "    </tr>\n",
       "    <tr>\n",
       "      <th>3</th>\n",
       "      <td>380098</td>\n",
       "      <td>BD0211EN</td>\n",
       "      <td>3.0</td>\n",
       "      <td>-0.034870</td>\n",
       "      <td>0.000715</td>\n",
       "      <td>0.077406</td>\n",
       "      <td>0.070311</td>\n",
       "      <td>-0.043007</td>\n",
       "      <td>-0.035446</td>\n",
       "      <td>0.032846</td>\n",
       "      <td>...</td>\n",
       "      <td>-0.005700</td>\n",
       "      <td>-0.006068</td>\n",
       "      <td>-0.005792</td>\n",
       "      <td>-0.023036</td>\n",
       "      <td>0.015999</td>\n",
       "      <td>-0.023480</td>\n",
       "      <td>0.015469</td>\n",
       "      <td>0.022221</td>\n",
       "      <td>-0.023115</td>\n",
       "      <td>-0.001785</td>\n",
       "    </tr>\n",
       "    <tr>\n",
       "      <th>4</th>\n",
       "      <td>779563</td>\n",
       "      <td>DS0101EN</td>\n",
       "      <td>3.0</td>\n",
       "      <td>0.106414</td>\n",
       "      <td>-0.001887</td>\n",
       "      <td>-0.017211</td>\n",
       "      <td>-0.042277</td>\n",
       "      <td>-0.074953</td>\n",
       "      <td>-0.056732</td>\n",
       "      <td>0.074610</td>\n",
       "      <td>...</td>\n",
       "      <td>-0.010015</td>\n",
       "      <td>-0.001514</td>\n",
       "      <td>-0.017598</td>\n",
       "      <td>0.003590</td>\n",
       "      <td>0.016799</td>\n",
       "      <td>0.002732</td>\n",
       "      <td>0.005162</td>\n",
       "      <td>0.015031</td>\n",
       "      <td>-0.000877</td>\n",
       "      <td>-0.021283</td>\n",
       "    </tr>\n",
       "  </tbody>\n",
       "</table>\n",
       "<p>5 rows × 35 columns</p>\n",
       "</div>"
      ],
      "text/plain": [
       "      user        item  rating  UFeature0  UFeature1  UFeature2  UFeature3  \\\n",
       "0  1889878    CC0101EN     3.0   0.080721  -0.129561   0.087998   0.030231   \n",
       "1  1342067    CL0101EN     3.0   0.068047  -0.112781   0.045208  -0.007570   \n",
       "2  1990814  ML0120ENv3     3.0   0.124623   0.012910  -0.072627   0.049935   \n",
       "3   380098    BD0211EN     3.0  -0.034870   0.000715   0.077406   0.070311   \n",
       "4   779563    DS0101EN     3.0   0.106414  -0.001887  -0.017211  -0.042277   \n",
       "\n",
       "   UFeature4  UFeature5  UFeature6  ...  CFeature6  CFeature7  CFeature8  \\\n",
       "0   0.082691  -0.004176  -0.003480  ...  -0.015081  -0.012229   0.015686   \n",
       "1  -0.038382   0.068037   0.114949  ...   0.010899  -0.037610  -0.019397   \n",
       "2   0.020158   0.133306  -0.035366  ...  -0.012695   0.036138   0.019965   \n",
       "3  -0.043007  -0.035446   0.032846  ...  -0.005700  -0.006068  -0.005792   \n",
       "4  -0.074953  -0.056732   0.074610  ...  -0.010015  -0.001514  -0.017598   \n",
       "\n",
       "   CFeature9  CFeature10  CFeature11  CFeature12  CFeature13  CFeature14  \\\n",
       "0   0.008401   -0.035495    0.009381   -0.032560   -0.007292    0.000966   \n",
       "1  -0.025682   -0.000620    0.038803    0.000196   -0.045343    0.012863   \n",
       "2   0.018686   -0.010450   -0.050011    0.013845   -0.044454   -0.001480   \n",
       "3  -0.023036    0.015999   -0.023480    0.015469    0.022221   -0.023115   \n",
       "4   0.003590    0.016799    0.002732    0.005162    0.015031   -0.000877   \n",
       "\n",
       "   CFeature15  \n",
       "0   -0.006218  \n",
       "1    0.019429  \n",
       "2   -0.007559  \n",
       "3   -0.001785  \n",
       "4   -0.021283  \n",
       "\n",
       "[5 rows x 35 columns]"
      ]
     },
     "execution_count": 38,
     "metadata": {},
     "output_type": "execute_result"
    }
   ],
   "source": [
    "merged_df.head()"
   ]
  },
  {
   "cell_type": "markdown",
   "metadata": {},
   "source": [
    "Each user's embedding features and each item's embedding features are added to the dataset. Next, we perform element-wise add the user features (the column labels starting with `UFeature`) and item features (the column labels starting with `CFeature`).\n"
   ]
  },
  {
   "cell_type": "code",
   "execution_count": 39,
   "metadata": {},
   "outputs": [
    {
     "data": {
      "text/html": [
       "<div>\n",
       "<style scoped>\n",
       "    .dataframe tbody tr th:only-of-type {\n",
       "        vertical-align: middle;\n",
       "    }\n",
       "\n",
       "    .dataframe tbody tr th {\n",
       "        vertical-align: top;\n",
       "    }\n",
       "\n",
       "    .dataframe thead th {\n",
       "        text-align: right;\n",
       "    }\n",
       "</style>\n",
       "<table border=\"1\" class=\"dataframe\">\n",
       "  <thead>\n",
       "    <tr style=\"text-align: right;\">\n",
       "      <th></th>\n",
       "      <th>Feature0</th>\n",
       "      <th>Feature1</th>\n",
       "      <th>Feature2</th>\n",
       "      <th>Feature3</th>\n",
       "      <th>Feature4</th>\n",
       "      <th>Feature5</th>\n",
       "      <th>Feature6</th>\n",
       "      <th>Feature7</th>\n",
       "      <th>Feature8</th>\n",
       "      <th>Feature9</th>\n",
       "      <th>Feature10</th>\n",
       "      <th>Feature11</th>\n",
       "      <th>Feature12</th>\n",
       "      <th>Feature13</th>\n",
       "      <th>Feature14</th>\n",
       "      <th>Feature15</th>\n",
       "      <th>rating</th>\n",
       "    </tr>\n",
       "  </thead>\n",
       "  <tbody>\n",
       "    <tr>\n",
       "      <th>0</th>\n",
       "      <td>0.090378</td>\n",
       "      <td>-0.134799</td>\n",
       "      <td>0.083900</td>\n",
       "      <td>0.046534</td>\n",
       "      <td>0.077417</td>\n",
       "      <td>-0.004537</td>\n",
       "      <td>-0.018561</td>\n",
       "      <td>0.079236</td>\n",
       "      <td>-0.024561</td>\n",
       "      <td>0.027359</td>\n",
       "      <td>-0.188823</td>\n",
       "      <td>-0.080762</td>\n",
       "      <td>0.050271</td>\n",
       "      <td>-0.066013</td>\n",
       "      <td>0.058894</td>\n",
       "      <td>-0.007689</td>\n",
       "      <td>3.0</td>\n",
       "    </tr>\n",
       "    <tr>\n",
       "      <th>1</th>\n",
       "      <td>0.059437</td>\n",
       "      <td>-0.084740</td>\n",
       "      <td>0.067107</td>\n",
       "      <td>-0.009036</td>\n",
       "      <td>-0.031482</td>\n",
       "      <td>0.050057</td>\n",
       "      <td>0.125847</td>\n",
       "      <td>0.066517</td>\n",
       "      <td>-0.053798</td>\n",
       "      <td>-0.021671</td>\n",
       "      <td>0.064212</td>\n",
       "      <td>0.204660</td>\n",
       "      <td>-0.004188</td>\n",
       "      <td>0.007914</td>\n",
       "      <td>0.027170</td>\n",
       "      <td>0.076114</td>\n",
       "      <td>3.0</td>\n",
       "    </tr>\n",
       "    <tr>\n",
       "      <th>2</th>\n",
       "      <td>0.152061</td>\n",
       "      <td>-0.014739</td>\n",
       "      <td>-0.080112</td>\n",
       "      <td>-0.009516</td>\n",
       "      <td>0.024130</td>\n",
       "      <td>0.153802</td>\n",
       "      <td>-0.048061</td>\n",
       "      <td>-0.119888</td>\n",
       "      <td>0.059234</td>\n",
       "      <td>0.060882</td>\n",
       "      <td>0.004244</td>\n",
       "      <td>-0.166000</td>\n",
       "      <td>0.045002</td>\n",
       "      <td>0.057566</td>\n",
       "      <td>-0.022081</td>\n",
       "      <td>0.108929</td>\n",
       "      <td>3.0</td>\n",
       "    </tr>\n",
       "    <tr>\n",
       "      <th>3</th>\n",
       "      <td>-0.014707</td>\n",
       "      <td>-0.011257</td>\n",
       "      <td>0.073692</td>\n",
       "      <td>0.054763</td>\n",
       "      <td>-0.050547</td>\n",
       "      <td>-0.020599</td>\n",
       "      <td>0.027146</td>\n",
       "      <td>-0.067012</td>\n",
       "      <td>0.106593</td>\n",
       "      <td>-0.020921</td>\n",
       "      <td>0.106658</td>\n",
       "      <td>-0.092025</td>\n",
       "      <td>0.024436</td>\n",
       "      <td>0.086183</td>\n",
       "      <td>0.029232</td>\n",
       "      <td>0.016287</td>\n",
       "      <td>3.0</td>\n",
       "    </tr>\n",
       "    <tr>\n",
       "      <th>4</th>\n",
       "      <td>0.112812</td>\n",
       "      <td>-0.001395</td>\n",
       "      <td>-0.011572</td>\n",
       "      <td>-0.032638</td>\n",
       "      <td>-0.080440</td>\n",
       "      <td>-0.057321</td>\n",
       "      <td>0.064595</td>\n",
       "      <td>-0.020880</td>\n",
       "      <td>-0.048939</td>\n",
       "      <td>0.068486</td>\n",
       "      <td>-0.031359</td>\n",
       "      <td>-0.044577</td>\n",
       "      <td>-0.002381</td>\n",
       "      <td>0.025505</td>\n",
       "      <td>-0.033164</td>\n",
       "      <td>-0.105266</td>\n",
       "      <td>3.0</td>\n",
       "    </tr>\n",
       "  </tbody>\n",
       "</table>\n",
       "</div>"
      ],
      "text/plain": [
       "   Feature0  Feature1  Feature2  Feature3  Feature4  Feature5  Feature6  \\\n",
       "0  0.090378 -0.134799  0.083900  0.046534  0.077417 -0.004537 -0.018561   \n",
       "1  0.059437 -0.084740  0.067107 -0.009036 -0.031482  0.050057  0.125847   \n",
       "2  0.152061 -0.014739 -0.080112 -0.009516  0.024130  0.153802 -0.048061   \n",
       "3 -0.014707 -0.011257  0.073692  0.054763 -0.050547 -0.020599  0.027146   \n",
       "4  0.112812 -0.001395 -0.011572 -0.032638 -0.080440 -0.057321  0.064595   \n",
       "\n",
       "   Feature7  Feature8  Feature9  Feature10  Feature11  Feature12  Feature13  \\\n",
       "0  0.079236 -0.024561  0.027359  -0.188823  -0.080762   0.050271  -0.066013   \n",
       "1  0.066517 -0.053798 -0.021671   0.064212   0.204660  -0.004188   0.007914   \n",
       "2 -0.119888  0.059234  0.060882   0.004244  -0.166000   0.045002   0.057566   \n",
       "3 -0.067012  0.106593 -0.020921   0.106658  -0.092025   0.024436   0.086183   \n",
       "4 -0.020880 -0.048939  0.068486  -0.031359  -0.044577  -0.002381   0.025505   \n",
       "\n",
       "   Feature14  Feature15  rating  \n",
       "0   0.058894  -0.007689     3.0  \n",
       "1   0.027170   0.076114     3.0  \n",
       "2  -0.022081   0.108929     3.0  \n",
       "3   0.029232   0.016287     3.0  \n",
       "4  -0.033164  -0.105266     3.0  "
      ]
     },
     "execution_count": 39,
     "metadata": {},
     "output_type": "execute_result"
    }
   ],
   "source": [
    "u_feautres = [f\"UFeature{i}\" for i in range(16)]\n",
    "c_features = [f\"CFeature{i}\" for i in range(16)]\n",
    "\n",
    "user_embeddings = merged_df[u_feautres]\n",
    "course_embeddings = merged_df[c_features]\n",
    "ratings = merged_df['rating']\n",
    "\n",
    "# Aggregate the two feature columns using element-wise add\n",
    "interaction_dataset = user_embeddings + course_embeddings.values\n",
    "interaction_dataset.columns = [f\"Feature{i}\" for i in range(16)]\n",
    "interaction_dataset['rating'] = ratings\n",
    "interaction_dataset.head()"
   ]
  },
  {
   "cell_type": "markdown",
   "metadata": {},
   "source": [
    "Next, let's use `LabelEncoder()` to encode our `rating` label to be categorical:\n"
   ]
  },
  {
   "cell_type": "code",
   "execution_count": 40,
   "metadata": {},
   "outputs": [],
   "source": [
    "X = interaction_dataset.iloc[:, :-1]\n",
    "y_raw = interaction_dataset.iloc[:, -1]\n",
    "\n",
    "label_encoder = LabelEncoder()\n",
    "y = label_encoder.fit_transform(y_raw.values.ravel())"
   ]
  },
  {
   "cell_type": "code",
   "execution_count": 41,
   "metadata": {},
   "outputs": [
    {
     "data": {
      "text/plain": [
       "222330"
      ]
     },
     "execution_count": 41,
     "metadata": {},
     "output_type": "execute_result"
    }
   ],
   "source": [
    "import matplotlib.pyplot as plt\n",
    "sum(y)"
   ]
  },
  {
   "cell_type": "markdown",
   "metadata": {},
   "source": [
    "and split X and y into training and testing dataset:\n"
   ]
  },
  {
   "cell_type": "code",
   "execution_count": 42,
   "metadata": {},
   "outputs": [],
   "source": [
    "X_train, X_test, y_train, y_test = train_test_split(X, y, test_size=0.2, random_state=rs)"
   ]
  },
  {
   "cell_type": "code",
   "execution_count": 43,
   "metadata": {},
   "outputs": [
    {
     "name": "stdout",
     "output_type": "stream",
     "text": [
      "Input data shape: (233306, 16), Output data shape: (233306,)\n"
     ]
    }
   ],
   "source": [
    "print(f\"Input data shape: {X.shape}, Output data shape: {y.shape}\")"
   ]
  },
  {
   "cell_type": "markdown",
   "metadata": {},
   "source": [
    "## TASK: Perform classification tasks on the interaction dataset\n"
   ]
  },
  {
   "cell_type": "markdown",
   "metadata": {},
   "source": [
    "Now our input data `X` and output label `y` is ready, let's build classification models to map `X` to `y`\n"
   ]
  },
  {
   "cell_type": "markdown",
   "metadata": {},
   "source": [
    "You may use `sklearn` to train and evaluate various regression models.\n"
   ]
  },
  {
   "cell_type": "markdown",
   "metadata": {},
   "source": [
    "*TODO: Define classification models such as Logistic Regression, Tree models, SVM, Bagging, and Boosting models*\n"
   ]
  },
  {
   "cell_type": "code",
   "execution_count": 44,
   "metadata": {},
   "outputs": [],
   "source": [
    "### WRITE YOUR CODE HERE\n",
    "from sklearn.linear_model import LogisticRegression\n",
    "from sklearn.tree import DecisionTreeClassifier\n",
    "from sklearn.svm import SVC\n",
    "from sklearn.ensemble import RandomForestClassifier, AdaBoostClassifier\n",
    "from sklearn.metrics import accuracy_score, recall_score, precision_score, f1_score\n",
    "from sklearn.model_selection import GridSearchCV"
   ]
  },
  {
   "cell_type": "markdown",
   "metadata": {},
   "source": [
    "*TODO: Train your classification models with training data*\n"
   ]
  },
  {
   "cell_type": "code",
   "execution_count": 45,
   "metadata": {},
   "outputs": [
    {
     "name": "stdout",
     "output_type": "stream",
     "text": [
      "0.9545025931164545\n"
     ]
    }
   ],
   "source": [
    "### Logistic Regression\n",
    "model = LogisticRegression()\n",
    "model.fit(X,y)\n",
    "y_pred = model.predict(X_test)\n",
    "\n",
    "acc = accuracy_score(y_pred,y_test)\n",
    "print(acc)\n"
   ]
  },
  {
   "cell_type": "code",
   "execution_count": 46,
   "metadata": {},
   "outputs": [],
   "source": [
    "from sklearn.metrics import mean_squared_error\n",
    "rmse = mean_squared_error(y_pred,y_test,squared=False)"
   ]
  },
  {
   "cell_type": "code",
   "execution_count": 47,
   "metadata": {},
   "outputs": [
    {
     "data": {
      "text/plain": [
       "0.21330121163168647"
      ]
     },
     "execution_count": 47,
     "metadata": {},
     "output_type": "execute_result"
    }
   ],
   "source": [
    "rmse"
   ]
  },
  {
   "cell_type": "code",
   "execution_count": 28,
   "metadata": {},
   "outputs": [
    {
     "ename": "KeyboardInterrupt",
     "evalue": "",
     "output_type": "error",
     "traceback": [
      "\u001b[0;31m---------------------------------------------------------------------------\u001b[0m",
      "\u001b[0;31mKeyboardInterrupt\u001b[0m                         Traceback (most recent call last)",
      "\u001b[0;32m/tmp/ipykernel_69/3028351105.py\u001b[0m in \u001b[0;36m<module>\u001b[0;34m\u001b[0m\n\u001b[1;32m      3\u001b[0m \u001b[0mmodel\u001b[0m \u001b[0;34m=\u001b[0m \u001b[0mDecisionTreeClassifier\u001b[0m\u001b[0;34m(\u001b[0m\u001b[0;34m)\u001b[0m\u001b[0;34m\u001b[0m\u001b[0;34m\u001b[0m\u001b[0m\n\u001b[1;32m      4\u001b[0m \u001b[0mgrid_model\u001b[0m\u001b[0;34m=\u001b[0m \u001b[0mGridSearchCV\u001b[0m\u001b[0;34m(\u001b[0m\u001b[0mmodel\u001b[0m\u001b[0;34m,\u001b[0m \u001b[0mparameters\u001b[0m\u001b[0;34m,\u001b[0m\u001b[0mcv\u001b[0m\u001b[0;34m=\u001b[0m\u001b[0;36m5\u001b[0m\u001b[0;34m)\u001b[0m\u001b[0;34m\u001b[0m\u001b[0;34m\u001b[0m\u001b[0m\n\u001b[0;32m----> 5\u001b[0;31m \u001b[0mout\u001b[0m \u001b[0;34m=\u001b[0m \u001b[0mgrid_model\u001b[0m\u001b[0;34m.\u001b[0m\u001b[0mfit\u001b[0m\u001b[0;34m(\u001b[0m\u001b[0mX_train\u001b[0m\u001b[0;34m,\u001b[0m\u001b[0my_train\u001b[0m\u001b[0;34m)\u001b[0m\u001b[0;34m\u001b[0m\u001b[0;34m\u001b[0m\u001b[0m\n\u001b[0m\u001b[1;32m      6\u001b[0m \u001b[0;31m# best estimator\u001b[0m\u001b[0;34m\u001b[0m\u001b[0;34m\u001b[0m\u001b[0;34m\u001b[0m\u001b[0m\n\u001b[1;32m      7\u001b[0m \u001b[0mprint\u001b[0m\u001b[0;34m(\u001b[0m\u001b[0mgrid_model\u001b[0m\u001b[0;34m.\u001b[0m\u001b[0mbest_estimator_\u001b[0m\u001b[0;34m)\u001b[0m\u001b[0;34m\u001b[0m\u001b[0;34m\u001b[0m\u001b[0m\n",
      "\u001b[0;32m~/conda/envs/python/lib/python3.7/site-packages/sklearn/model_selection/_search.py\u001b[0m in \u001b[0;36mfit\u001b[0;34m(self, X, y, groups, **fit_params)\u001b[0m\n\u001b[1;32m    889\u001b[0m                 \u001b[0;32mreturn\u001b[0m \u001b[0mresults\u001b[0m\u001b[0;34m\u001b[0m\u001b[0;34m\u001b[0m\u001b[0m\n\u001b[1;32m    890\u001b[0m \u001b[0;34m\u001b[0m\u001b[0m\n\u001b[0;32m--> 891\u001b[0;31m             \u001b[0mself\u001b[0m\u001b[0;34m.\u001b[0m\u001b[0m_run_search\u001b[0m\u001b[0;34m(\u001b[0m\u001b[0mevaluate_candidates\u001b[0m\u001b[0;34m)\u001b[0m\u001b[0;34m\u001b[0m\u001b[0;34m\u001b[0m\u001b[0m\n\u001b[0m\u001b[1;32m    892\u001b[0m \u001b[0;34m\u001b[0m\u001b[0m\n\u001b[1;32m    893\u001b[0m             \u001b[0;31m# multimetric is determined here because in the case of a callable\u001b[0m\u001b[0;34m\u001b[0m\u001b[0;34m\u001b[0m\u001b[0;34m\u001b[0m\u001b[0m\n",
      "\u001b[0;32m~/conda/envs/python/lib/python3.7/site-packages/sklearn/model_selection/_search.py\u001b[0m in \u001b[0;36m_run_search\u001b[0;34m(self, evaluate_candidates)\u001b[0m\n\u001b[1;32m   1390\u001b[0m     \u001b[0;32mdef\u001b[0m \u001b[0m_run_search\u001b[0m\u001b[0;34m(\u001b[0m\u001b[0mself\u001b[0m\u001b[0;34m,\u001b[0m \u001b[0mevaluate_candidates\u001b[0m\u001b[0;34m)\u001b[0m\u001b[0;34m:\u001b[0m\u001b[0;34m\u001b[0m\u001b[0;34m\u001b[0m\u001b[0m\n\u001b[1;32m   1391\u001b[0m         \u001b[0;34m\"\"\"Search all candidates in param_grid\"\"\"\u001b[0m\u001b[0;34m\u001b[0m\u001b[0;34m\u001b[0m\u001b[0m\n\u001b[0;32m-> 1392\u001b[0;31m         \u001b[0mevaluate_candidates\u001b[0m\u001b[0;34m(\u001b[0m\u001b[0mParameterGrid\u001b[0m\u001b[0;34m(\u001b[0m\u001b[0mself\u001b[0m\u001b[0;34m.\u001b[0m\u001b[0mparam_grid\u001b[0m\u001b[0;34m)\u001b[0m\u001b[0;34m)\u001b[0m\u001b[0;34m\u001b[0m\u001b[0;34m\u001b[0m\u001b[0m\n\u001b[0m\u001b[1;32m   1393\u001b[0m \u001b[0;34m\u001b[0m\u001b[0m\n\u001b[1;32m   1394\u001b[0m \u001b[0;34m\u001b[0m\u001b[0m\n",
      "\u001b[0;32m~/conda/envs/python/lib/python3.7/site-packages/sklearn/model_selection/_search.py\u001b[0m in \u001b[0;36mevaluate_candidates\u001b[0;34m(candidate_params, cv, more_results)\u001b[0m\n\u001b[1;32m    849\u001b[0m                     )\n\u001b[1;32m    850\u001b[0m                     for (cand_idx, parameters), (split_idx, (train, test)) in product(\n\u001b[0;32m--> 851\u001b[0;31m                         \u001b[0menumerate\u001b[0m\u001b[0;34m(\u001b[0m\u001b[0mcandidate_params\u001b[0m\u001b[0;34m)\u001b[0m\u001b[0;34m,\u001b[0m \u001b[0menumerate\u001b[0m\u001b[0;34m(\u001b[0m\u001b[0mcv\u001b[0m\u001b[0;34m.\u001b[0m\u001b[0msplit\u001b[0m\u001b[0;34m(\u001b[0m\u001b[0mX\u001b[0m\u001b[0;34m,\u001b[0m \u001b[0my\u001b[0m\u001b[0;34m,\u001b[0m \u001b[0mgroups\u001b[0m\u001b[0;34m)\u001b[0m\u001b[0;34m)\u001b[0m\u001b[0;34m\u001b[0m\u001b[0;34m\u001b[0m\u001b[0m\n\u001b[0m\u001b[1;32m    852\u001b[0m                     )\n\u001b[1;32m    853\u001b[0m                 )\n",
      "\u001b[0;32m~/conda/envs/python/lib/python3.7/site-packages/joblib/parallel.py\u001b[0m in \u001b[0;36m__call__\u001b[0;34m(self, iterable)\u001b[0m\n\u001b[1;32m   1086\u001b[0m                 \u001b[0mself\u001b[0m\u001b[0;34m.\u001b[0m\u001b[0m_iterating\u001b[0m \u001b[0;34m=\u001b[0m \u001b[0mself\u001b[0m\u001b[0;34m.\u001b[0m\u001b[0m_original_iterator\u001b[0m \u001b[0;32mis\u001b[0m \u001b[0;32mnot\u001b[0m \u001b[0;32mNone\u001b[0m\u001b[0;34m\u001b[0m\u001b[0;34m\u001b[0m\u001b[0m\n\u001b[1;32m   1087\u001b[0m \u001b[0;34m\u001b[0m\u001b[0m\n\u001b[0;32m-> 1088\u001b[0;31m             \u001b[0;32mwhile\u001b[0m \u001b[0mself\u001b[0m\u001b[0;34m.\u001b[0m\u001b[0mdispatch_one_batch\u001b[0m\u001b[0;34m(\u001b[0m\u001b[0miterator\u001b[0m\u001b[0;34m)\u001b[0m\u001b[0;34m:\u001b[0m\u001b[0;34m\u001b[0m\u001b[0;34m\u001b[0m\u001b[0m\n\u001b[0m\u001b[1;32m   1089\u001b[0m                 \u001b[0;32mpass\u001b[0m\u001b[0;34m\u001b[0m\u001b[0;34m\u001b[0m\u001b[0m\n\u001b[1;32m   1090\u001b[0m \u001b[0;34m\u001b[0m\u001b[0m\n",
      "\u001b[0;32m~/conda/envs/python/lib/python3.7/site-packages/joblib/parallel.py\u001b[0m in \u001b[0;36mdispatch_one_batch\u001b[0;34m(self, iterator)\u001b[0m\n\u001b[1;32m    899\u001b[0m                 \u001b[0;32mreturn\u001b[0m \u001b[0;32mFalse\u001b[0m\u001b[0;34m\u001b[0m\u001b[0;34m\u001b[0m\u001b[0m\n\u001b[1;32m    900\u001b[0m             \u001b[0;32melse\u001b[0m\u001b[0;34m:\u001b[0m\u001b[0;34m\u001b[0m\u001b[0;34m\u001b[0m\u001b[0m\n\u001b[0;32m--> 901\u001b[0;31m                 \u001b[0mself\u001b[0m\u001b[0;34m.\u001b[0m\u001b[0m_dispatch\u001b[0m\u001b[0;34m(\u001b[0m\u001b[0mtasks\u001b[0m\u001b[0;34m)\u001b[0m\u001b[0;34m\u001b[0m\u001b[0;34m\u001b[0m\u001b[0m\n\u001b[0m\u001b[1;32m    902\u001b[0m                 \u001b[0;32mreturn\u001b[0m \u001b[0;32mTrue\u001b[0m\u001b[0;34m\u001b[0m\u001b[0;34m\u001b[0m\u001b[0m\n\u001b[1;32m    903\u001b[0m \u001b[0;34m\u001b[0m\u001b[0m\n",
      "\u001b[0;32m~/conda/envs/python/lib/python3.7/site-packages/joblib/parallel.py\u001b[0m in \u001b[0;36m_dispatch\u001b[0;34m(self, batch)\u001b[0m\n\u001b[1;32m    817\u001b[0m         \u001b[0;32mwith\u001b[0m \u001b[0mself\u001b[0m\u001b[0;34m.\u001b[0m\u001b[0m_lock\u001b[0m\u001b[0;34m:\u001b[0m\u001b[0;34m\u001b[0m\u001b[0;34m\u001b[0m\u001b[0m\n\u001b[1;32m    818\u001b[0m             \u001b[0mjob_idx\u001b[0m \u001b[0;34m=\u001b[0m \u001b[0mlen\u001b[0m\u001b[0;34m(\u001b[0m\u001b[0mself\u001b[0m\u001b[0;34m.\u001b[0m\u001b[0m_jobs\u001b[0m\u001b[0;34m)\u001b[0m\u001b[0;34m\u001b[0m\u001b[0;34m\u001b[0m\u001b[0m\n\u001b[0;32m--> 819\u001b[0;31m             \u001b[0mjob\u001b[0m \u001b[0;34m=\u001b[0m \u001b[0mself\u001b[0m\u001b[0;34m.\u001b[0m\u001b[0m_backend\u001b[0m\u001b[0;34m.\u001b[0m\u001b[0mapply_async\u001b[0m\u001b[0;34m(\u001b[0m\u001b[0mbatch\u001b[0m\u001b[0;34m,\u001b[0m \u001b[0mcallback\u001b[0m\u001b[0;34m=\u001b[0m\u001b[0mcb\u001b[0m\u001b[0;34m)\u001b[0m\u001b[0;34m\u001b[0m\u001b[0;34m\u001b[0m\u001b[0m\n\u001b[0m\u001b[1;32m    820\u001b[0m             \u001b[0;31m# A job can complete so quickly than its callback is\u001b[0m\u001b[0;34m\u001b[0m\u001b[0;34m\u001b[0m\u001b[0;34m\u001b[0m\u001b[0m\n\u001b[1;32m    821\u001b[0m             \u001b[0;31m# called before we get here, causing self._jobs to\u001b[0m\u001b[0;34m\u001b[0m\u001b[0;34m\u001b[0m\u001b[0;34m\u001b[0m\u001b[0m\n",
      "\u001b[0;32m~/conda/envs/python/lib/python3.7/site-packages/joblib/_parallel_backends.py\u001b[0m in \u001b[0;36mapply_async\u001b[0;34m(self, func, callback)\u001b[0m\n\u001b[1;32m    206\u001b[0m     \u001b[0;32mdef\u001b[0m \u001b[0mapply_async\u001b[0m\u001b[0;34m(\u001b[0m\u001b[0mself\u001b[0m\u001b[0;34m,\u001b[0m \u001b[0mfunc\u001b[0m\u001b[0;34m,\u001b[0m \u001b[0mcallback\u001b[0m\u001b[0;34m=\u001b[0m\u001b[0;32mNone\u001b[0m\u001b[0;34m)\u001b[0m\u001b[0;34m:\u001b[0m\u001b[0;34m\u001b[0m\u001b[0;34m\u001b[0m\u001b[0m\n\u001b[1;32m    207\u001b[0m         \u001b[0;34m\"\"\"Schedule a func to be run\"\"\"\u001b[0m\u001b[0;34m\u001b[0m\u001b[0;34m\u001b[0m\u001b[0m\n\u001b[0;32m--> 208\u001b[0;31m         \u001b[0mresult\u001b[0m \u001b[0;34m=\u001b[0m \u001b[0mImmediateResult\u001b[0m\u001b[0;34m(\u001b[0m\u001b[0mfunc\u001b[0m\u001b[0;34m)\u001b[0m\u001b[0;34m\u001b[0m\u001b[0;34m\u001b[0m\u001b[0m\n\u001b[0m\u001b[1;32m    209\u001b[0m         \u001b[0;32mif\u001b[0m \u001b[0mcallback\u001b[0m\u001b[0;34m:\u001b[0m\u001b[0;34m\u001b[0m\u001b[0;34m\u001b[0m\u001b[0m\n\u001b[1;32m    210\u001b[0m             \u001b[0mcallback\u001b[0m\u001b[0;34m(\u001b[0m\u001b[0mresult\u001b[0m\u001b[0;34m)\u001b[0m\u001b[0;34m\u001b[0m\u001b[0;34m\u001b[0m\u001b[0m\n",
      "\u001b[0;32m~/conda/envs/python/lib/python3.7/site-packages/joblib/_parallel_backends.py\u001b[0m in \u001b[0;36m__init__\u001b[0;34m(self, batch)\u001b[0m\n\u001b[1;32m    595\u001b[0m         \u001b[0;31m# Don't delay the application, to avoid keeping the input\u001b[0m\u001b[0;34m\u001b[0m\u001b[0;34m\u001b[0m\u001b[0;34m\u001b[0m\u001b[0m\n\u001b[1;32m    596\u001b[0m         \u001b[0;31m# arguments in memory\u001b[0m\u001b[0;34m\u001b[0m\u001b[0;34m\u001b[0m\u001b[0;34m\u001b[0m\u001b[0m\n\u001b[0;32m--> 597\u001b[0;31m         \u001b[0mself\u001b[0m\u001b[0;34m.\u001b[0m\u001b[0mresults\u001b[0m \u001b[0;34m=\u001b[0m \u001b[0mbatch\u001b[0m\u001b[0;34m(\u001b[0m\u001b[0;34m)\u001b[0m\u001b[0;34m\u001b[0m\u001b[0;34m\u001b[0m\u001b[0m\n\u001b[0m\u001b[1;32m    598\u001b[0m \u001b[0;34m\u001b[0m\u001b[0m\n\u001b[1;32m    599\u001b[0m     \u001b[0;32mdef\u001b[0m \u001b[0mget\u001b[0m\u001b[0;34m(\u001b[0m\u001b[0mself\u001b[0m\u001b[0;34m)\u001b[0m\u001b[0;34m:\u001b[0m\u001b[0;34m\u001b[0m\u001b[0;34m\u001b[0m\u001b[0m\n",
      "\u001b[0;32m~/conda/envs/python/lib/python3.7/site-packages/joblib/parallel.py\u001b[0m in \u001b[0;36m__call__\u001b[0;34m(self)\u001b[0m\n\u001b[1;32m    287\u001b[0m         \u001b[0;32mwith\u001b[0m \u001b[0mparallel_backend\u001b[0m\u001b[0;34m(\u001b[0m\u001b[0mself\u001b[0m\u001b[0;34m.\u001b[0m\u001b[0m_backend\u001b[0m\u001b[0;34m,\u001b[0m \u001b[0mn_jobs\u001b[0m\u001b[0;34m=\u001b[0m\u001b[0mself\u001b[0m\u001b[0;34m.\u001b[0m\u001b[0m_n_jobs\u001b[0m\u001b[0;34m)\u001b[0m\u001b[0;34m:\u001b[0m\u001b[0;34m\u001b[0m\u001b[0;34m\u001b[0m\u001b[0m\n\u001b[1;32m    288\u001b[0m             return [func(*args, **kwargs)\n\u001b[0;32m--> 289\u001b[0;31m                     for func, args, kwargs in self.items]\n\u001b[0m\u001b[1;32m    290\u001b[0m \u001b[0;34m\u001b[0m\u001b[0m\n\u001b[1;32m    291\u001b[0m     \u001b[0;32mdef\u001b[0m \u001b[0m__reduce__\u001b[0m\u001b[0;34m(\u001b[0m\u001b[0mself\u001b[0m\u001b[0;34m)\u001b[0m\u001b[0;34m:\u001b[0m\u001b[0;34m\u001b[0m\u001b[0;34m\u001b[0m\u001b[0m\n",
      "\u001b[0;32m~/conda/envs/python/lib/python3.7/site-packages/joblib/parallel.py\u001b[0m in \u001b[0;36m<listcomp>\u001b[0;34m(.0)\u001b[0m\n\u001b[1;32m    287\u001b[0m         \u001b[0;32mwith\u001b[0m \u001b[0mparallel_backend\u001b[0m\u001b[0;34m(\u001b[0m\u001b[0mself\u001b[0m\u001b[0;34m.\u001b[0m\u001b[0m_backend\u001b[0m\u001b[0;34m,\u001b[0m \u001b[0mn_jobs\u001b[0m\u001b[0;34m=\u001b[0m\u001b[0mself\u001b[0m\u001b[0;34m.\u001b[0m\u001b[0m_n_jobs\u001b[0m\u001b[0;34m)\u001b[0m\u001b[0;34m:\u001b[0m\u001b[0;34m\u001b[0m\u001b[0;34m\u001b[0m\u001b[0m\n\u001b[1;32m    288\u001b[0m             return [func(*args, **kwargs)\n\u001b[0;32m--> 289\u001b[0;31m                     for func, args, kwargs in self.items]\n\u001b[0m\u001b[1;32m    290\u001b[0m \u001b[0;34m\u001b[0m\u001b[0m\n\u001b[1;32m    291\u001b[0m     \u001b[0;32mdef\u001b[0m \u001b[0m__reduce__\u001b[0m\u001b[0;34m(\u001b[0m\u001b[0mself\u001b[0m\u001b[0;34m)\u001b[0m\u001b[0;34m:\u001b[0m\u001b[0;34m\u001b[0m\u001b[0;34m\u001b[0m\u001b[0m\n",
      "\u001b[0;32m~/conda/envs/python/lib/python3.7/site-packages/sklearn/utils/fixes.py\u001b[0m in \u001b[0;36m__call__\u001b[0;34m(self, *args, **kwargs)\u001b[0m\n\u001b[1;32m    214\u001b[0m     \u001b[0;32mdef\u001b[0m \u001b[0m__call__\u001b[0m\u001b[0;34m(\u001b[0m\u001b[0mself\u001b[0m\u001b[0;34m,\u001b[0m \u001b[0;34m*\u001b[0m\u001b[0margs\u001b[0m\u001b[0;34m,\u001b[0m \u001b[0;34m**\u001b[0m\u001b[0mkwargs\u001b[0m\u001b[0;34m)\u001b[0m\u001b[0;34m:\u001b[0m\u001b[0;34m\u001b[0m\u001b[0;34m\u001b[0m\u001b[0m\n\u001b[1;32m    215\u001b[0m         \u001b[0;32mwith\u001b[0m \u001b[0mconfig_context\u001b[0m\u001b[0;34m(\u001b[0m\u001b[0;34m**\u001b[0m\u001b[0mself\u001b[0m\u001b[0;34m.\u001b[0m\u001b[0mconfig\u001b[0m\u001b[0;34m)\u001b[0m\u001b[0;34m:\u001b[0m\u001b[0;34m\u001b[0m\u001b[0;34m\u001b[0m\u001b[0m\n\u001b[0;32m--> 216\u001b[0;31m             \u001b[0;32mreturn\u001b[0m \u001b[0mself\u001b[0m\u001b[0;34m.\u001b[0m\u001b[0mfunction\u001b[0m\u001b[0;34m(\u001b[0m\u001b[0;34m*\u001b[0m\u001b[0margs\u001b[0m\u001b[0;34m,\u001b[0m \u001b[0;34m**\u001b[0m\u001b[0mkwargs\u001b[0m\u001b[0;34m)\u001b[0m\u001b[0;34m\u001b[0m\u001b[0;34m\u001b[0m\u001b[0m\n\u001b[0m\u001b[1;32m    217\u001b[0m \u001b[0;34m\u001b[0m\u001b[0m\n\u001b[1;32m    218\u001b[0m \u001b[0;34m\u001b[0m\u001b[0m\n",
      "\u001b[0;32m~/conda/envs/python/lib/python3.7/site-packages/sklearn/model_selection/_validation.py\u001b[0m in \u001b[0;36m_fit_and_score\u001b[0;34m(estimator, X, y, scorer, train, test, verbose, parameters, fit_params, return_train_score, return_parameters, return_n_test_samples, return_times, return_estimator, split_progress, candidate_progress, error_score)\u001b[0m\n\u001b[1;32m    678\u001b[0m             \u001b[0mestimator\u001b[0m\u001b[0;34m.\u001b[0m\u001b[0mfit\u001b[0m\u001b[0;34m(\u001b[0m\u001b[0mX_train\u001b[0m\u001b[0;34m,\u001b[0m \u001b[0;34m**\u001b[0m\u001b[0mfit_params\u001b[0m\u001b[0;34m)\u001b[0m\u001b[0;34m\u001b[0m\u001b[0;34m\u001b[0m\u001b[0m\n\u001b[1;32m    679\u001b[0m         \u001b[0;32melse\u001b[0m\u001b[0;34m:\u001b[0m\u001b[0;34m\u001b[0m\u001b[0;34m\u001b[0m\u001b[0m\n\u001b[0;32m--> 680\u001b[0;31m             \u001b[0mestimator\u001b[0m\u001b[0;34m.\u001b[0m\u001b[0mfit\u001b[0m\u001b[0;34m(\u001b[0m\u001b[0mX_train\u001b[0m\u001b[0;34m,\u001b[0m \u001b[0my_train\u001b[0m\u001b[0;34m,\u001b[0m \u001b[0;34m**\u001b[0m\u001b[0mfit_params\u001b[0m\u001b[0;34m)\u001b[0m\u001b[0;34m\u001b[0m\u001b[0;34m\u001b[0m\u001b[0m\n\u001b[0m\u001b[1;32m    681\u001b[0m \u001b[0;34m\u001b[0m\u001b[0m\n\u001b[1;32m    682\u001b[0m     \u001b[0;32mexcept\u001b[0m \u001b[0mException\u001b[0m\u001b[0;34m:\u001b[0m\u001b[0;34m\u001b[0m\u001b[0;34m\u001b[0m\u001b[0m\n",
      "\u001b[0;32m~/conda/envs/python/lib/python3.7/site-packages/sklearn/tree/_classes.py\u001b[0m in \u001b[0;36mfit\u001b[0;34m(self, X, y, sample_weight, check_input, X_idx_sorted)\u001b[0m\n\u001b[1;32m    940\u001b[0m             \u001b[0msample_weight\u001b[0m\u001b[0;34m=\u001b[0m\u001b[0msample_weight\u001b[0m\u001b[0;34m,\u001b[0m\u001b[0;34m\u001b[0m\u001b[0;34m\u001b[0m\u001b[0m\n\u001b[1;32m    941\u001b[0m             \u001b[0mcheck_input\u001b[0m\u001b[0;34m=\u001b[0m\u001b[0mcheck_input\u001b[0m\u001b[0;34m,\u001b[0m\u001b[0;34m\u001b[0m\u001b[0;34m\u001b[0m\u001b[0m\n\u001b[0;32m--> 942\u001b[0;31m             \u001b[0mX_idx_sorted\u001b[0m\u001b[0;34m=\u001b[0m\u001b[0mX_idx_sorted\u001b[0m\u001b[0;34m,\u001b[0m\u001b[0;34m\u001b[0m\u001b[0;34m\u001b[0m\u001b[0m\n\u001b[0m\u001b[1;32m    943\u001b[0m         )\n\u001b[1;32m    944\u001b[0m         \u001b[0;32mreturn\u001b[0m \u001b[0mself\u001b[0m\u001b[0;34m\u001b[0m\u001b[0;34m\u001b[0m\u001b[0m\n",
      "\u001b[0;32m~/conda/envs/python/lib/python3.7/site-packages/sklearn/tree/_classes.py\u001b[0m in \u001b[0;36mfit\u001b[0;34m(self, X, y, sample_weight, check_input, X_idx_sorted)\u001b[0m\n\u001b[1;32m    418\u001b[0m             )\n\u001b[1;32m    419\u001b[0m \u001b[0;34m\u001b[0m\u001b[0m\n\u001b[0;32m--> 420\u001b[0;31m         \u001b[0mbuilder\u001b[0m\u001b[0;34m.\u001b[0m\u001b[0mbuild\u001b[0m\u001b[0;34m(\u001b[0m\u001b[0mself\u001b[0m\u001b[0;34m.\u001b[0m\u001b[0mtree_\u001b[0m\u001b[0;34m,\u001b[0m \u001b[0mX\u001b[0m\u001b[0;34m,\u001b[0m \u001b[0my\u001b[0m\u001b[0;34m,\u001b[0m \u001b[0msample_weight\u001b[0m\u001b[0;34m)\u001b[0m\u001b[0;34m\u001b[0m\u001b[0;34m\u001b[0m\u001b[0m\n\u001b[0m\u001b[1;32m    421\u001b[0m \u001b[0;34m\u001b[0m\u001b[0m\n\u001b[1;32m    422\u001b[0m         \u001b[0;32mif\u001b[0m \u001b[0mself\u001b[0m\u001b[0;34m.\u001b[0m\u001b[0mn_outputs_\u001b[0m \u001b[0;34m==\u001b[0m \u001b[0;36m1\u001b[0m \u001b[0;32mand\u001b[0m \u001b[0mis_classifier\u001b[0m\u001b[0;34m(\u001b[0m\u001b[0mself\u001b[0m\u001b[0;34m)\u001b[0m\u001b[0;34m:\u001b[0m\u001b[0;34m\u001b[0m\u001b[0;34m\u001b[0m\u001b[0m\n",
      "\u001b[0;31mKeyboardInterrupt\u001b[0m: "
     ]
    }
   ],
   "source": [
    "### Decision Trees\n",
    "parameters = {'criterion':['gini','entropy'],'max_depth':[4,5,6,7,8,9,10]}\n",
    "model = DecisionTreeClassifier()\n",
    "grid_model= GridSearchCV(model, parameters,cv=5)\n",
    "out = grid_model.fit(X_train,y_train)\n",
    "# best estimator\n",
    "print(grid_model.best_estimator_)\n",
    "# best model\n",
    "best_model = grid_model.best_estimator_\n",
    "best_model.fit(X,y)\n",
    "y_pred = best_model.predict(X_test)\n",
    "acc = accuracy_score(y_pred,y_test)\n",
    "print(acc)"
   ]
  },
  {
   "cell_type": "code",
   "execution_count": null,
   "metadata": {},
   "outputs": [],
   "source": [
    "### SVM\n",
    "parameters = {'C': [1, 10],'gamma': [0.001, 0.01, 1]}\n",
    "model = SVC()\n",
    "grid_model= GridSearchCV(model, parameters,cv=5)\n",
    "out = grid_model.fit(X_train,y_train)\n",
    "# best estimator\n",
    "print(grid_model.best_estimator_)\n",
    "# best model\n",
    "best_model = grid_model.best_estimator_\n",
    "best_model.fit(X,y)\n",
    "y_pred = best_model.predict(X_test)\n",
    "acc = accuracy_score(y_pred,y_test)\n",
    "print(acc)"
   ]
  },
  {
   "cell_type": "code",
   "execution_count": null,
   "metadata": {},
   "outputs": [],
   "source": [
    "### Random Forest\n",
    "parameters = {'criterion':['gini','entropy'],'max_depth':[4,5,6,7,8,9,10,11,12,15,16]}\n",
    "model = RandomForestClassifier()\n",
    "grid_model= GridSearchCV(model, parameters,cv=5)\n",
    "out = grid_model.fit(X_train,y_train)\n",
    "# best estimator\n",
    "print(grid_model.best_estimator_)\n",
    "# best model\n",
    "best_model = grid_model.best_estimator_\n",
    "best_model.fit(X,y)\n",
    "y_pred = best_model.predict(X_test)\n",
    "acc = accuracy_score(y_pred,y_test)\n",
    "print(acc)"
   ]
  },
  {
   "cell_type": "code",
   "execution_count": null,
   "metadata": {},
   "outputs": [],
   "source": [
    "### AdaBoost\n",
    "parameters = {\"base_estimator__criterion\" : [\"gini\", \"entropy\"], \"base_estimator__splitter\" : [\"best\", \"random\"],\"n_estimators\": [1, 2]}\n",
    "model = AdaBoostClassifier()\n",
    "grid_model= GridSearchCV(model, parameters,cv=5)\n",
    "out = grid_model.fit(X_train,y_train)\n",
    "# best estimator\n",
    "print(grid_model.best_estimator_)\n",
    "# best model\n",
    "best_model = grid_model.best_estimator_\n",
    "best_model.fit(X,y)\n",
    "y_pred = best_model.predict(X_test)\n",
    "acc = accuracy_score(y_pred,y_test)\n",
    "print(acc)"
   ]
  },
  {
   "cell_type": "markdown",
   "metadata": {},
   "source": [
    "*TODO: Evaluate your classification models*\n"
   ]
  },
  {
   "cell_type": "code",
   "execution_count": null,
   "metadata": {},
   "outputs": [],
   "source": [
    "### WRITE YOUR CODE HERE\n",
    "\n",
    "### The main evaluation metrics could be accuracy, recall, precision, F score, and AUC.\n"
   ]
  },
  {
   "cell_type": "markdown",
   "metadata": {},
   "source": [
    "### Summary\n"
   ]
  },
  {
   "cell_type": "markdown",
   "metadata": {},
   "source": [
    "In this lab, you have built and evaluated various classification models to predict categorical course rating modes using the embedding feature vectors extracted from neural networks.\n"
   ]
  },
  {
   "cell_type": "markdown",
   "metadata": {},
   "source": [
    "## Authors\n"
   ]
  },
  {
   "cell_type": "markdown",
   "metadata": {},
   "source": [
    "[Yan Luo](https://www.linkedin.com/in/yan-luo-96288783/?utm_medium=Exinfluencer&utm_source=Exinfluencer&utm_content=000026UJ&utm_term=10006555&utm_id=NA-SkillsNetwork-Channel-SkillsNetworkCoursesIBMML321ENSkillsNetwork32585014-2022-01-01)\n"
   ]
  },
  {
   "cell_type": "markdown",
   "metadata": {},
   "source": [
    "### Other Contributors\n"
   ]
  },
  {
   "cell_type": "markdown",
   "metadata": {},
   "source": [
    "## Change Log\n"
   ]
  },
  {
   "cell_type": "markdown",
   "metadata": {},
   "source": [
    "| Date (YYYY-MM-DD) | Version | Changed By | Change Description          |\n",
    "| ----------------- | ------- | ---------- | --------------------------- |\n",
    "| 2021-10-25        | 1.0     | Yan        | Created the initial version |\n"
   ]
  },
  {
   "cell_type": "markdown",
   "metadata": {},
   "source": [
    "Copyright © 2021 IBM Corporation. All rights reserved.\n"
   ]
  }
 ],
 "metadata": {
  "kernelspec": {
   "display_name": "Python",
   "language": "python",
   "name": "conda-env-python-py"
  },
  "language_info": {
   "codemirror_mode": {
    "name": "ipython",
    "version": 3
   },
   "file_extension": ".py",
   "mimetype": "text/x-python",
   "name": "python",
   "nbconvert_exporter": "python",
   "pygments_lexer": "ipython3",
   "version": "3.7.12"
  }
 },
 "nbformat": 4,
 "nbformat_minor": 4
}
